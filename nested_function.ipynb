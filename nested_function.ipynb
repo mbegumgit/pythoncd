{
 "cells": [
  {
   "cell_type": "code",
   "execution_count": 1,
   "metadata": {},
   "outputs": [],
   "source": [
    "def power_to(exp):\n",
    "    def exp_to_var(x):\n",
    "        return pow(x,exp)\n",
    "    return exp_to_var"
   ]
  },
  {
   "cell_type": "code",
   "execution_count": 7,
   "metadata": {},
   "outputs": [
    {
     "data": {
      "text/plain": [
       "25"
      ]
     },
     "execution_count": 7,
     "metadata": {},
     "output_type": "execute_result"
    }
   ],
   "source": [
    "square = power_to(2)\n",
    "square(5)\n"
   ]
  },
  {
   "cell_type": "code",
   "execution_count": 3,
   "metadata": {},
   "outputs": [],
   "source": [
    "cube = power_to(3)"
   ]
  },
  {
   "cell_type": "code",
   "execution_count": 6,
   "metadata": {},
   "outputs": [
    {
     "data": {
      "text/plain": [
       "729"
      ]
     },
     "execution_count": 6,
     "metadata": {},
     "output_type": "execute_result"
    }
   ],
   "source": [
    "cube(9)\n"
   ]
  },
  {
   "cell_type": "code",
   "execution_count": 23,
   "metadata": {},
   "outputs": [],
   "source": [
    "import re\n",
    "def filter_digits(strings):\n",
    "    def digits_out(s):\n",
    "        match=re.findall(r\"\\d+\",s)\n",
    "        print(\"match\",match)\n",
    "        if match != \" \":\n",
    "            return match\n",
    "    return list(map(digits_out,strings))\n",
    "lista=['anil','1','asd1','23']\n",
    "\n"
   ]
  },
  {
   "cell_type": "code",
   "execution_count": 24,
   "metadata": {},
   "outputs": [
    {
     "name": "stdout",
     "output_type": "stream",
     "text": [
      "match []\n",
      "match ['1']\n",
      "match ['1']\n",
      "match ['23']\n"
     ]
    },
    {
     "data": {
      "text/plain": [
       "[[], ['1'], ['1'], ['23']]"
      ]
     },
     "execution_count": 24,
     "metadata": {},
     "output_type": "execute_result"
    }
   ],
   "source": [
    "filter_digits(lista)\n"
   ]
  },
  {
   "cell_type": "code",
   "execution_count": 38,
   "metadata": {},
   "outputs": [],
   "source": []
  },
  {
   "cell_type": "code",
   "execution_count": 39,
   "metadata": {},
   "outputs": [
    {
     "name": "stdout",
     "output_type": "stream",
     "text": [
      "match []\n",
      "match ['1']\n",
      "match ['1']\n",
      "match ['23']\n"
     ]
    }
   ],
   "source": [
    "filter_digits(lista)"
   ]
  },
  {
   "cell_type": "code",
   "execution_count": 40,
   "metadata": {},
   "outputs": [
    {
     "data": {
      "text/plain": [
       "[None, ['1'], ['1'], ['23']]"
      ]
     },
     "execution_count": 40,
     "metadata": {},
     "output_type": "execute_result"
    }
   ],
   "source": [
    "num"
   ]
  },
  {
   "cell_type": "code",
   "execution_count": 43,
   "metadata": {},
   "outputs": [
    {
     "name": "stdout",
     "output_type": "stream",
     "text": [
      "[1, 2, 3]\n"
     ]
    }
   ],
   "source": [
    "def gen1(listx):\n",
    "#     x = iter(listx)\n",
    "#     res =next(x)\n",
    "    def get_first(f):\n",
    "        return f[0]\n",
    "    return list(map(get_first,listx))\n",
    "listx = [[1],[2],[3]]\n",
    "print(gen1(listx))"
   ]
  },
  {
   "cell_type": "code",
   "execution_count": 48,
   "metadata": {},
   "outputs": [],
   "source": [
    "import time\n",
    "def make_timer():\n",
    "    last_called = None\n",
    "    def elapsed():\n",
    "        nonlocal last_called\n",
    "        now  = time.time()\n",
    "        if last_called is None:\n",
    "            last_called =now\n",
    "            return None\n",
    "        res = now - last_called\n",
    "        last_called = now\n",
    "        return res\n",
    "    return elapsed"
   ]
  },
  {
   "cell_type": "code",
   "execution_count": 57,
   "metadata": {},
   "outputs": [],
   "source": [
    "t1 = make_timer()\n",
    "t1()"
   ]
  },
  {
   "cell_type": "code",
   "execution_count": 58,
   "metadata": {},
   "outputs": [
    {
     "data": {
      "text/plain": [
       "3.5622036457061768"
      ]
     },
     "execution_count": 58,
     "metadata": {},
     "output_type": "execute_result"
    }
   ],
   "source": [
    "t1()"
   ]
  },
  {
   "cell_type": "code",
   "execution_count": 59,
   "metadata": {},
   "outputs": [],
   "source": [
    "t2=make_timer()\n",
    "t2()\n",
    "# independent timer t1 t2 due to nonlocal definition to local variable"
   ]
  },
  {
   "cell_type": "code",
   "execution_count": 62,
   "metadata": {},
   "outputs": [],
   "source": [
    "def escape_unicode(f):\n",
    "    def wrap(*args,**kwargs):\n",
    "        x=f(*args,**kwargs)\n",
    "        return ascii(x)\n",
    "    return wrap\n",
    "\n",
    "@escape_unicode\n",
    "def city(c):\n",
    "    return c"
   ]
  },
  {
   "cell_type": "code",
   "execution_count": 65,
   "metadata": {},
   "outputs": [
    {
     "data": {
      "text/plain": [
       "\"'amazon@'\""
      ]
     },
     "execution_count": 65,
     "metadata": {},
     "output_type": "execute_result"
    }
   ],
   "source": [
    "city('amazon@')"
   ]
  },
  {
   "cell_type": "code",
   "execution_count": null,
   "metadata": {},
   "outputs": [],
   "source": []
  }
 ],
 "metadata": {
  "kernelspec": {
   "display_name": "Python 3",
   "language": "python",
   "name": "python3"
  },
  "language_info": {
   "codemirror_mode": {
    "name": "ipython",
    "version": 3
   },
   "file_extension": ".py",
   "mimetype": "text/x-python",
   "name": "python",
   "nbconvert_exporter": "python",
   "pygments_lexer": "ipython3",
   "version": "3.7.6"
  }
 },
 "nbformat": 4,
 "nbformat_minor": 4
}
