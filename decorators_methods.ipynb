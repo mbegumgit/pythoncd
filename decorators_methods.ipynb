{
 "cells": [
  {
   "cell_type": "code",
   "execution_count": 7,
   "metadata": {},
   "outputs": [],
   "source": [
    "class ShippingContainer:\n",
    "    next_serial =1337\n",
    "    \n",
    "    @classmethod  # passing cls object itself and access to class object \n",
    "    def _get_next_serial(cls):\n",
    "        result = cls.next_serial\n",
    "        cls.next_serial += 1\n",
    "        return result\n",
    "    \n",
    "  # classmethod used as constructor\n",
    "    @classmethod\n",
    "    def _create_empty(cls,owner_code):\n",
    "        return cls(owner_code,contents=None)  # this calls dunder init method\n",
    "    \n",
    "    @classmethod \n",
    "    def create_items(cls,owner_code,items):\n",
    "        return cls(owner_code,contents=list(items))\n",
    "    \n",
    "    def __init__(self,owner_code,contents):\n",
    "        self.owner_code= owner_code\n",
    "        self.contents =contents\n",
    "        self.serial = ShippingContainer._get_next_serial()\n",
    "    "
   ]
  },
  {
   "cell_type": "code",
   "execution_count": 16,
   "metadata": {},
   "outputs": [],
   "source": [
    "S1= ShippingContainer('YMC','food')"
   ]
  },
  {
   "cell_type": "code",
   "execution_count": 3,
   "metadata": {},
   "outputs": [
    {
     "data": {
      "text/plain": [
       "1337"
      ]
     },
     "execution_count": 3,
     "metadata": {},
     "output_type": "execute_result"
    }
   ],
   "source": [
    "S1.serial\n"
   ]
  },
  {
   "cell_type": "code",
   "execution_count": 5,
   "metadata": {},
   "outputs": [
    {
     "data": {
      "text/plain": [
       "1338"
      ]
     },
     "execution_count": 5,
     "metadata": {},
     "output_type": "execute_result"
    }
   ],
   "source": [
    "ShippingContainer.next_serial"
   ]
  },
  {
   "cell_type": "code",
   "execution_count": 6,
   "metadata": {},
   "outputs": [
    {
     "data": {
      "text/plain": [
       "1338"
      ]
     },
     "execution_count": 6,
     "metadata": {},
     "output_type": "execute_result"
    }
   ],
   "source": [
    "ShippingContainer.next_serial"
   ]
  },
  {
   "cell_type": "code",
   "execution_count": 14,
   "metadata": {},
   "outputs": [],
   "source": [
    "O1=ShippingContainer.create_items('LMO',['food','book'])"
   ]
  },
  {
   "cell_type": "code",
   "execution_count": 17,
   "metadata": {},
   "outputs": [
    {
     "data": {
      "text/plain": [
       "'food'"
      ]
     },
     "execution_count": 17,
     "metadata": {},
     "output_type": "execute_result"
    }
   ],
   "source": [
    "S1.contents"
   ]
  },
  {
   "cell_type": "code",
   "execution_count": 18,
   "metadata": {},
   "outputs": [],
   "source": [
    "def create(owner_code,serial,category='U'):\n",
    "    return owner_code + category +serial+ '1'"
   ]
  },
  {
   "cell_type": "code",
   "execution_count": 19,
   "metadata": {},
   "outputs": [],
   "source": [
    "class ShippingContainer:\n",
    "    next_serial =1337\n",
    "    \n",
    "    @staticmethod\n",
    "    def _make_bic_code(owner_code,serial):\n",
    "        return create(owner_code,str(serial).zfill(6))\n",
    "        \n",
    "       \n",
    "    @classmethod  # passing cls object itself and access to class object \n",
    "    def _get_next_serial(cls):\n",
    "        result = cls.next_serial\n",
    "        cls.next_serial += 1\n",
    "        return result\n",
    "    \n",
    "  # classmethod used as constructor\n",
    "    @classmethod\n",
    "    def _create_empty(cls,owner_code):\n",
    "        return cls(owner_code,contents=None)  # this calls dunder init method\n",
    "    \n",
    "    @classmethod \n",
    "    def create_items(cls,owner_code,items):\n",
    "        return cls(owner_code,contents=list(items))\n",
    "    \n",
    "    def __init__(self,owner_code,contents):\n",
    "        self.owner_code= owner_code\n",
    "        self.contents =contents\n",
    "        self.bic = ShippingContainer._make_bic_code(owner_code=owner_code,\n",
    "                                                    serial=ShippingContainer._get_next_serial())\n",
    "    "
   ]
  },
  {
   "cell_type": "code",
   "execution_count": 20,
   "metadata": {},
   "outputs": [],
   "source": [
    "Sk =  ShippingContainer('YMC','electronics')"
   ]
  },
  {
   "cell_type": "code",
   "execution_count": 22,
   "metadata": {},
   "outputs": [
    {
     "data": {
      "text/plain": [
       "'YMCU0013371'"
      ]
     },
     "execution_count": 22,
     "metadata": {},
     "output_type": "execute_result"
    }
   ],
   "source": [
    "Sk.bic"
   ]
  },
  {
   "cell_type": "code",
   "execution_count": 40,
   "metadata": {},
   "outputs": [],
   "source": [
    "class RefrigeratedShippingContainer(ShippingContainer):\n",
    "    @staticmethod\n",
    "    def _make_bic_code(owner_code,serial):\n",
    "        return create(owner_code,str(serial).zfill(6),category='R')"
   ]
  },
  {
   "cell_type": "code",
   "execution_count": 32,
   "metadata": {},
   "outputs": [],
   "source": [
    "Rk=RefrigeratedShippingContainer('MEP','grains')"
   ]
  },
  {
   "cell_type": "code",
   "execution_count": 33,
   "metadata": {},
   "outputs": [
    {
     "data": {
      "text/plain": [
       "'MEPU0013381'"
      ]
     },
     "execution_count": 33,
     "metadata": {},
     "output_type": "execute_result"
    }
   ],
   "source": [
    "Rk.bic # this refers to base method calling(see init method of base class) hence polymorphism of overriding doesnt happen"
   ]
  },
  {
   "cell_type": "code",
   "execution_count": 35,
   "metadata": {},
   "outputs": [
    {
     "data": {
      "text/plain": [
       "'MEPRgrains1'"
      ]
     },
     "execution_count": 35,
     "metadata": {},
     "output_type": "execute_result"
    }
   ],
   "source": [
    "Rk._make_bic_code('MEP','grains') # this calls polymorphism- overriden happen"
   ]
  },
  {
   "cell_type": "code",
   "execution_count": 36,
   "metadata": {},
   "outputs": [
    {
     "data": {
      "text/plain": [
       "'MEPU0013381'"
      ]
     },
     "execution_count": 36,
     "metadata": {},
     "output_type": "execute_result"
    }
   ],
   "source": [
    "Rk.bic"
   ]
  },
  {
   "cell_type": "code",
   "execution_count": 68,
   "metadata": {},
   "outputs": [],
   "source": [
    "class ShippingContainer:\n",
    "    next_serial =1337\n",
    "    \n",
    "    @staticmethod\n",
    "    def _make_bic_code(owner_code,serial):\n",
    "        return create(owner_code,str(serial).zfill(6))\n",
    "        \n",
    "       \n",
    "    @classmethod  # passing cls object itself and access to class object \n",
    "    def _get_next_serial(cls):\n",
    "        result = cls.next_serial\n",
    "        cls.next_serial += 1\n",
    "        return result\n",
    "    \n",
    "  # classmethod used as constructor\n",
    "    @classmethod\n",
    "    def _create_empty(cls,owner_code,*args,**kwargs):\n",
    "        return cls(owner_code,contents=None,*args,**kwargs)  # this calls dunder init method\n",
    "    \n",
    "    @classmethod \n",
    "    def create_items(cls,owner_code,items,*args,**kwargs):\n",
    "        return cls(owner_code,contents=list(items),*args,**kwargs)\n",
    "    \n",
    "    def __init__(self,owner_code,contents):\n",
    "        self.owner_code= owner_code\n",
    "        self.contents =contents\n",
    "        #make_bic_code called using instances of object rather object , helps in polymorphism\n",
    "        self.bic = self._make_bic_code(owner_code=owner_code,\n",
    "                                                    serial=ShippingContainer._get_next_serial())"
   ]
  },
  {
   "cell_type": "code",
   "execution_count": 41,
   "metadata": {},
   "outputs": [
    {
     "data": {
      "text/plain": [
       "'MEPR0013371'"
      ]
     },
     "execution_count": 41,
     "metadata": {},
     "output_type": "execute_result"
    }
   ],
   "source": [
    "R1= RefrigeratedShippingContainer('MEP','milk')\n",
    "R1.bic # calling thru instances "
   ]
  },
  {
   "cell_type": "code",
   "execution_count": 75,
   "metadata": {},
   "outputs": [],
   "source": [
    "class RefrigeratedShippingContainer(ShippingContainer):\n",
    "    MAX_CELSIUS = 4.0\n",
    "    @staticmethod\n",
    "    def _make_bic_code(owner_code,serial):\n",
    "        return create(owner_code,str(serial).zfill(6),category='R')\n",
    "    \n",
    "    @staticmethod\n",
    "    def _c_to_f(celsius):\n",
    "        return celsius * 9/5 +32\n",
    "    @staticmethod\n",
    "    def _f_to_c(fahrenheit):\n",
    "        return (fahrenheit-32) * 5/9\n",
    "    \n",
    "    def __init__(self,owner_code,contents,celsius):\n",
    "        super().__init__(owner_code,contents)\n",
    "        if celsius > RefrigeratedShippingContainer.MAX_CELSIUS:\n",
    "            raise ValueError(\"Temperature is too hot!\")\n",
    "        self._celsius =celsius\n",
    "    \n",
    "    @property\n",
    "    def celsius(self):\n",
    "        return self._celsius\n",
    "        \n",
    "    @celsius.setter\n",
    "    def celsius(self,value):\n",
    "        if value > RefrigeratedShippingContainer.MAX_CELSIUS:\n",
    "            raise ValueError(\"Temperature is too hot!\")\n",
    "        self._celsius = value\n",
    "        \n",
    "    @property\n",
    "    def fahrenheit(self):\n",
    "        return RefrigeratedShippingContainer._c_to_f(self.celsius)\n",
    "    \n",
    "                                                     \n",
    "    @fahrenheit.setter\n",
    "    def fahrenheit(self,value):\n",
    "        \n",
    "        self._celsius = RefrigeratedShippingContainer._f_to_c(value)\n",
    "        "
   ]
  },
  {
   "cell_type": "code",
   "execution_count": 76,
   "metadata": {},
   "outputs": [],
   "source": [
    "NewR=RefrigeratedShippingContainer('ESC','vegetables',celsius=4)"
   ]
  },
  {
   "cell_type": "code",
   "execution_count": 50,
   "metadata": {},
   "outputs": [
    {
     "data": {
      "text/plain": [
       "4"
      ]
     },
     "execution_count": 50,
     "metadata": {},
     "output_type": "execute_result"
    }
   ],
   "source": [
    "NewR.celsius"
   ]
  },
  {
   "cell_type": "code",
   "execution_count": 53,
   "metadata": {},
   "outputs": [
    {
     "data": {
      "text/plain": [
       "'ESCR0013411'"
      ]
     },
     "execution_count": 53,
     "metadata": {},
     "output_type": "execute_result"
    }
   ],
   "source": [
    "NewR.bic"
   ]
  },
  {
   "cell_type": "code",
   "execution_count": 60,
   "metadata": {},
   "outputs": [],
   "source": [
    "R1=RefrigeratedShippingContainer.create_items('ESC',['meat','chicken','cheesse'],celsius=4)"
   ]
  },
  {
   "cell_type": "code",
   "execution_count": 56,
   "metadata": {},
   "outputs": [
    {
     "data": {
      "text/plain": [
       "['meat', 'chicken', 'cheesse']"
      ]
     },
     "execution_count": 56,
     "metadata": {},
     "output_type": "execute_result"
    }
   ],
   "source": [
    "R1.contents"
   ]
  },
  {
   "cell_type": "code",
   "execution_count": 58,
   "metadata": {},
   "outputs": [
    {
     "data": {
      "text/plain": [
       "'ESCR0013431'"
      ]
     },
     "execution_count": 58,
     "metadata": {},
     "output_type": "execute_result"
    }
   ],
   "source": [
    "R1.bic"
   ]
  },
  {
   "cell_type": "code",
   "execution_count": 62,
   "metadata": {},
   "outputs": [],
   "source": [
    "R1.celsius =-1\n"
   ]
  },
  {
   "cell_type": "code",
   "execution_count": 77,
   "metadata": {},
   "outputs": [
    {
     "data": {
      "text/plain": [
       "39.2"
      ]
     },
     "execution_count": 77,
     "metadata": {},
     "output_type": "execute_result"
    }
   ],
   "source": [
    "NewR.fahrenheit"
   ]
  },
  {
   "cell_type": "code",
   "execution_count": 78,
   "metadata": {},
   "outputs": [],
   "source": [
    "NewR.fahrenheit =-20"
   ]
  },
  {
   "cell_type": "code",
   "execution_count": 79,
   "metadata": {},
   "outputs": [
    {
     "data": {
      "text/plain": [
       "-20.0"
      ]
     },
     "execution_count": 79,
     "metadata": {},
     "output_type": "execute_result"
    }
   ],
   "source": [
    "NewR.fahrenheit"
   ]
  },
  {
   "cell_type": "code",
   "execution_count": 83,
   "metadata": {},
   "outputs": [],
   "source": [
    "class ShippingContainer:\n",
    "    next_serial =1337\n",
    "    Height_ft = 8.5\n",
    "    Width_ft = 8.0\n",
    "    @staticmethod\n",
    "    def _make_bic_code(owner_code,serial):\n",
    "        return create(owner_code,str(serial).zfill(6))\n",
    "        \n",
    "       \n",
    "    @classmethod  # passing cls object itself and access to class object \n",
    "    def _get_next_serial(cls):\n",
    "        result = cls.next_serial\n",
    "        cls.next_serial += 1\n",
    "        return result\n",
    "    \n",
    "  # classmethod used as constructor\n",
    "    @classmethod\n",
    "    def _create_empty(cls,owner_code,length_ft,*args,**kwargs):\n",
    "        return cls(owner_code,length_ft,contents=None,*args,**kwargs)  # this calls dunder init method\n",
    "    \n",
    "    @classmethod \n",
    "    def create_items(cls,owner_code,length_ft,items,*args,**kwargs):\n",
    "        return cls(owner_code,length_ft,contents=list(items),*args,**kwargs)\n",
    "    \n",
    "    def __init__(self,owner_code,length_ft,contents):\n",
    "        self.owner_code= owner_code\n",
    "        self.length_ft = length_ft\n",
    "        self.contents =contents\n",
    "        #make_bic_code called using instances of object rather object , helps in polymorphism\n",
    "        self.bic = self._make_bic_code(owner_code=owner_code,\n",
    "                                                    serial=ShippingContainer._get_next_serial())\n",
    "    @property\n",
    "    def volume_ft3(self):\n",
    "        return ShippingContainer.Height_ft  * ShippingContainer.Width_ft * self.length_ft"
   ]
  },
  {
   "cell_type": "code",
   "execution_count": 84,
   "metadata": {},
   "outputs": [],
   "source": [
    "c=ShippingContainer._create_empty('ESC',20)"
   ]
  },
  {
   "cell_type": "code",
   "execution_count": 85,
   "metadata": {},
   "outputs": [
    {
     "data": {
      "text/plain": [
       "1360.0"
      ]
     },
     "execution_count": 85,
     "metadata": {},
     "output_type": "execute_result"
    }
   ],
   "source": [
    "c.volume_ft3"
   ]
  },
  {
   "cell_type": "code",
   "execution_count": 122,
   "metadata": {},
   "outputs": [],
   "source": [
    "class RefrigeratedShippingContainer(ShippingContainer):\n",
    "    MAX_CELSIUS = 4.0\n",
    "    FRIDGE_Vol =100.0\n",
    "    @staticmethod\n",
    "    def _make_bic_code(owner_code,serial):\n",
    "        return create(owner_code,str(serial).zfill(6),category='R')\n",
    "    \n",
    "    @staticmethod\n",
    "    def _c_to_f(celsius):\n",
    "        return celsius * 9/5 +32\n",
    "    @staticmethod\n",
    "    def _f_to_c(fahrenheit):\n",
    "        return (fahrenheit-32) * 5/9\n",
    "    \n",
    "    def __init__(self,owner_code,length_ft,contents,celsius):\n",
    "        super().__init__(owner_code,length_ft,contents)\n",
    "   #     if celsius > RefrigeratedShippingContainer.MAX_CELSIUS:\n",
    "   #         raise ValueError(\"Temperature is too hot!\")\n",
    "        self._celsius =celsius\n",
    "    \n",
    "    @property\n",
    "    def celsius(self):\n",
    "        if self.celsius > RefrigeratedShippingContainer.MAX_CELSIUS:\n",
    "            raise ValueError(\"Temperature is too hot!\")\n",
    "        return self._celsius\n",
    "        \n",
    "    @celsius.setter\n",
    "    def celsius(self,value):\n",
    "        if value > RefrigeratedShippingContainer.MAX_CELSIUS:\n",
    "            raise ValueError(\"Temperature is too hot!\")\n",
    "        self._celsius = value\n",
    "        \n",
    "    @property\n",
    "    def fahrenheit(self):\n",
    "        return RefrigeratedShippingContainer._c_to_f(self.celsius)\n",
    "    \n",
    "                                                     \n",
    "    @fahrenheit.setter\n",
    "    def fahrenheit(self,value):\n",
    "        \n",
    "        self._celsius = RefrigeratedShippingContainer._f_to_c(value)\n",
    "    @property\n",
    "    def volume_ft3(self):\n",
    "  #      return (ShippingContainer.Height_ft  * ShippingContainer.Width_ft * self.length_ft\n",
    "   #             - RefrigeratedShippingContainer.FRIDGE_Vol)\n",
    "        return super().volume_ft3 - RefrigeratedShippingContainer.FRIDGE_Vol"
   ]
  },
  {
   "cell_type": "code",
   "execution_count": 95,
   "metadata": {},
   "outputs": [],
   "source": [
    "R1=RefrigeratedShippingContainer('MEP',20,'scrap',3)"
   ]
  },
  {
   "cell_type": "code",
   "execution_count": 96,
   "metadata": {},
   "outputs": [
    {
     "data": {
      "text/plain": [
       "1260.0"
      ]
     },
     "execution_count": 96,
     "metadata": {},
     "output_type": "execute_result"
    }
   ],
   "source": [
    "R1.volume_ft3\n"
   ]
  },
  {
   "cell_type": "code",
   "execution_count": 92,
   "metadata": {},
   "outputs": [],
   "source": [
    "S1=ShippingContainer('MEP',20,'scrap')"
   ]
  },
  {
   "cell_type": "code",
   "execution_count": 93,
   "metadata": {},
   "outputs": [
    {
     "data": {
      "text/plain": [
       "1360.0"
      ]
     },
     "execution_count": 93,
     "metadata": {},
     "output_type": "execute_result"
    }
   ],
   "source": [
    "S1.volume_ft3"
   ]
  },
  {
   "cell_type": "code",
   "execution_count": 125,
   "metadata": {},
   "outputs": [],
   "source": [
    "class HeatRefrigeratedShippingContainer(RefrigeratedShippingContainer):\n",
    "    MIN_CELSIUS = -20.0\n",
    "    \n",
    "    @RefrigeratedShippingContainer.celsius.setter\n",
    "    def celsius(self,value):\n",
    "    #    if not ( HeatRefrigeratedShippingContainer.MIN_CELSIUS\n",
    "     #           <=value\n",
    "#                <=RefrigeratedShippingContainer.MAX_CELSIUS ):\n",
    "#             raise ValueError(\"Temperature out of range\")\n",
    "#         self.value= value\n",
    "        if value < HeatRefrigeratedShippingContainer.MIN_CELSIUS:\n",
    "                \n",
    "            raise ValueError(\"Temperature is too cold\")\n",
    "        RefrigeratedShippingContainer.celsius.fset(self,value)"
   ]
  },
  {
   "cell_type": "code",
   "execution_count": 114,
   "metadata": {},
   "outputs": [],
   "source": [
    "h1 =HeatRefrigeratedShippingContainer('EEP',21,'meat',-25)"
   ]
  },
  {
   "cell_type": "code",
   "execution_count": 115,
   "metadata": {},
   "outputs": [
    {
     "ename": "AttributeError",
     "evalue": "'super' object has no attribute 'celsius'",
     "output_type": "error",
     "traceback": [
      "\u001b[1;31m---------------------------------------------------------------------------\u001b[0m",
      "\u001b[1;31mAttributeError\u001b[0m                            Traceback (most recent call last)",
      "\u001b[1;32m<ipython-input-115-bd0d55b73965>\u001b[0m in \u001b[0;36m<module>\u001b[1;34m\u001b[0m\n\u001b[1;32m----> 1\u001b[1;33m \u001b[0mh1\u001b[0m\u001b[1;33m.\u001b[0m\u001b[0mcelsius\u001b[0m \u001b[1;33m=\u001b[0m \u001b[1;33m-\u001b[0m\u001b[1;36m30.0\u001b[0m\u001b[1;33m\u001b[0m\u001b[1;33m\u001b[0m\u001b[0m\n\u001b[0m",
      "\u001b[1;32m<ipython-input-113-c42717ce6805>\u001b[0m in \u001b[0;36mcelsius\u001b[1;34m(self, value)\u001b[0m\n\u001b[0;32m     12\u001b[0m \u001b[1;33m\u001b[0m\u001b[0m\n\u001b[0;32m     13\u001b[0m             \u001b[1;32mraise\u001b[0m \u001b[0mValueError\u001b[0m\u001b[1;33m(\u001b[0m\u001b[1;34m\"Temperature out of range\"\u001b[0m\u001b[1;33m)\u001b[0m\u001b[1;33m\u001b[0m\u001b[1;33m\u001b[0m\u001b[0m\n\u001b[1;32m---> 14\u001b[1;33m         \u001b[0msuper\u001b[0m\u001b[1;33m(\u001b[0m\u001b[1;33m)\u001b[0m\u001b[1;33m.\u001b[0m\u001b[0mcelsius\u001b[0m\u001b[1;33m=\u001b[0m \u001b[0mvalue\u001b[0m\u001b[1;33m\u001b[0m\u001b[1;33m\u001b[0m\u001b[0m\n\u001b[0m",
      "\u001b[1;31mAttributeError\u001b[0m: 'super' object has no attribute 'celsius'"
     ]
    }
   ],
   "source": [
    "h1.celsius = -30.0"
   ]
  },
  {
   "cell_type": "code",
   "execution_count": 126,
   "metadata": {},
   "outputs": [],
   "source": [
    "h1 =HeatRefrigeratedShippingContainer('EEP',21,'meat',-25)"
   ]
  },
  {
   "cell_type": "code",
   "execution_count": 127,
   "metadata": {},
   "outputs": [
    {
     "ename": "ValueError",
     "evalue": "Temperature is too cold",
     "output_type": "error",
     "traceback": [
      "\u001b[1;31m---------------------------------------------------------------------------\u001b[0m",
      "\u001b[1;31mValueError\u001b[0m                                Traceback (most recent call last)",
      "\u001b[1;32m<ipython-input-127-d8537594c0d1>\u001b[0m in \u001b[0;36m<module>\u001b[1;34m\u001b[0m\n\u001b[1;32m----> 1\u001b[1;33m \u001b[0mh1\u001b[0m\u001b[1;33m.\u001b[0m\u001b[0mcelsius\u001b[0m\u001b[1;33m=\u001b[0m\u001b[1;33m-\u001b[0m\u001b[1;36m29\u001b[0m\u001b[1;33m\u001b[0m\u001b[1;33m\u001b[0m\u001b[0m\n\u001b[0m",
      "\u001b[1;32m<ipython-input-125-9e762b0e8881>\u001b[0m in \u001b[0;36mcelsius\u001b[1;34m(self, value)\u001b[0m\n\u001b[0;32m     11\u001b[0m         \u001b[1;32mif\u001b[0m \u001b[0mvalue\u001b[0m \u001b[1;33m<\u001b[0m \u001b[0mHeatRefrigeratedShippingContainer\u001b[0m\u001b[1;33m.\u001b[0m\u001b[0mMIN_CELSIUS\u001b[0m\u001b[1;33m:\u001b[0m\u001b[1;33m\u001b[0m\u001b[1;33m\u001b[0m\u001b[0m\n\u001b[0;32m     12\u001b[0m \u001b[1;33m\u001b[0m\u001b[0m\n\u001b[1;32m---> 13\u001b[1;33m             \u001b[1;32mraise\u001b[0m \u001b[0mValueError\u001b[0m\u001b[1;33m(\u001b[0m\u001b[1;34m\"Temperature is too cold\"\u001b[0m\u001b[1;33m)\u001b[0m\u001b[1;33m\u001b[0m\u001b[1;33m\u001b[0m\u001b[0m\n\u001b[0m\u001b[0;32m     14\u001b[0m         \u001b[0mRefrigeratedShippingContainer\u001b[0m\u001b[1;33m.\u001b[0m\u001b[0mcelsius\u001b[0m\u001b[1;33m.\u001b[0m\u001b[0mfset\u001b[0m\u001b[1;33m(\u001b[0m\u001b[0mself\u001b[0m\u001b[1;33m,\u001b[0m\u001b[0mvalue\u001b[0m\u001b[1;33m)\u001b[0m\u001b[1;33m\u001b[0m\u001b[1;33m\u001b[0m\u001b[0m\n",
      "\u001b[1;31mValueError\u001b[0m: Temperature is too cold"
     ]
    }
   ],
   "source": [
    "h1.celsius=-29"
   ]
  },
  {
   "cell_type": "code",
   "execution_count": null,
   "metadata": {},
   "outputs": [],
   "source": []
  }
 ],
 "metadata": {
  "kernelspec": {
   "display_name": "Python 3",
   "language": "python",
   "name": "python3"
  },
  "language_info": {
   "codemirror_mode": {
    "name": "ipython",
    "version": 3
   },
   "file_extension": ".py",
   "mimetype": "text/x-python",
   "name": "python",
   "nbconvert_exporter": "python",
   "pygments_lexer": "ipython3",
   "version": "3.7.6"
  }
 },
 "nbformat": 4,
 "nbformat_minor": 4
}
