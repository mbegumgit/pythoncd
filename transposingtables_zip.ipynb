{
 "cells": [
  {
   "cell_type": "code",
   "execution_count": 1,
   "metadata": {},
   "outputs": [
    {
     "name": "stdout",
     "output_type": "stream",
     "text": [
      "(30, 22, 40)\n",
      "(30, 23, 45)\n",
      "(40, 24, 46)\n",
      "(35, 22, 32)\n",
      "(34, 34, 33)\n",
      "(32, 33, 37)\n",
      "(22, 35, 25)\n"
     ]
    }
   ],
   "source": [
    "monday=[22,23,24,22,34,33,35]\n",
    "tuesday=[40,45,46,32,33,37,25]\n",
    "sunday=[30,30,40,35,34,32,22]\n",
    "for item in zip(sunday,monday,tuesday):\n",
    "    print(item)"
   ]
  },
  {
   "cell_type": "code",
   "execution_count": 2,
   "metadata": {},
   "outputs": [
    {
     "data": {
      "text/plain": [
       "[[30, 30, 40, 35, 34, 32, 22],\n",
       " [22, 23, 24, 22, 34, 33, 35],\n",
       " [40, 45, 46, 32, 33, 37, 25]]"
      ]
     },
     "execution_count": 2,
     "metadata": {},
     "output_type": "execute_result"
    }
   ],
   "source": [
    "daily=[sunday,monday,tuesday]\n",
    "daily"
   ]
  },
  {
   "cell_type": "code",
   "execution_count": 3,
   "metadata": {},
   "outputs": [
    {
     "name": "stdout",
     "output_type": "stream",
     "text": [
      "[[30, 30, 40, 35, 34, 32, 22],\n",
      " [22, 23, 24, 22, 34, 33, 35],\n",
      " [40, 45, 46, 32, 33, 37, 25]]\n"
     ]
    }
   ],
   "source": [
    "from pprint import pprint as pp\n",
    "pp(daily)"
   ]
  },
  {
   "cell_type": "code",
   "execution_count": 4,
   "metadata": {},
   "outputs": [
    {
     "name": "stdout",
     "output_type": "stream",
     "text": [
      "(30, 22, 40)\n",
      "(30, 23, 45)\n",
      "(40, 24, 46)\n",
      "(35, 22, 32)\n",
      "(34, 34, 33)\n",
      "(32, 33, 37)\n",
      "(22, 35, 25)\n"
     ]
    }
   ],
   "source": [
    "for temp in zip(daily[0],daily[1],daily[2]):\n",
    "    print(temp)"
   ]
  },
  {
   "cell_type": "code",
   "execution_count": 5,
   "metadata": {},
   "outputs": [
    {
     "name": "stdout",
     "output_type": "stream",
     "text": [
      "(30, 22, 40)\n",
      "(30, 23, 45)\n",
      "(40, 24, 46)\n",
      "(35, 22, 32)\n",
      "(34, 34, 33)\n",
      "(32, 33, 37)\n",
      "(22, 35, 25)\n"
     ]
    }
   ],
   "source": [
    "for item in zip(*daily):\n",
    "    print(item)"
   ]
  },
  {
   "cell_type": "code",
   "execution_count": 7,
   "metadata": {},
   "outputs": [
    {
     "data": {
      "text/plain": [
       "[(30, 22, 40),\n",
       " (30, 23, 45),\n",
       " (40, 24, 46),\n",
       " (35, 22, 32),\n",
       " (34, 34, 33),\n",
       " (32, 33, 37),\n",
       " (22, 35, 25)]"
      ]
     },
     "execution_count": 7,
     "metadata": {},
     "output_type": "execute_result"
    }
   ],
   "source": [
    "transposed = list(zip(*daily))\n",
    "transposed"
   ]
  },
  {
   "cell_type": "code",
   "execution_count": null,
   "metadata": {},
   "outputs": [],
   "source": []
  }
 ],
 "metadata": {
  "kernelspec": {
   "display_name": "Python 3",
   "language": "python",
   "name": "python3"
  },
  "language_info": {
   "codemirror_mode": {
    "name": "ipython",
    "version": 3
   },
   "file_extension": ".py",
   "mimetype": "text/x-python",
   "name": "python",
   "nbconvert_exporter": "python",
   "pygments_lexer": "ipython3",
   "version": "3.7.6"
  }
 },
 "nbformat": 4,
 "nbformat_minor": 4
}
